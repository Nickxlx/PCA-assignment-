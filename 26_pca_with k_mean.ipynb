{
 "cells": [
  {
   "cell_type": "markdown",
   "id": "6d583006-50fe-4873-973e-fb013a7b51bf",
   "metadata": {},
   "source": [
    "Instructions:\n",
    "\n",
    "- Download the wine dataset from the UCI Machine Learning Repository\n",
    "\n",
    "- Load the dataset into a Pandas dataframe.\n",
    "\n",
    "- Split the dataset into features and target variables.\n",
    "Perform data preprocessing (e.g., scaling, normalisation, missing value imputation) as necessary.\n",
    "\n",
    "- Implement PCA on the preprocessed dataset using the scikit-learn library.\n",
    "\n",
    "- Determine the optimal number of principal components to retain based on the explained variance ratio.\n",
    "\n",
    "- Visualise the results of PCA using a scatter plot.\n",
    "\n",
    "- Perform clustering on the PCA-transformed data using K-Means clustering algorithm.\n",
    "\n",
    "- Interpret the results of PCA and clustering analysis."
   ]
  },
  {
   "cell_type": "code",
   "execution_count": null,
   "id": "906a0163-fc06-4d1f-aa9c-f44147eee48a",
   "metadata": {
    "collapsed": true,
    "jupyter": {
     "outputs_hidden": true
    }
   },
   "outputs": [],
   "source": []
  },
  {
   "cell_type": "markdown",
   "id": "a730ff3b-a2f3-4b25-8405-a92134080e38",
   "metadata": {},
   "source": [
    "#### Download the wine dataset from the UCI Machine Learning Repository"
   ]
  },
  {
   "cell_type": "code",
   "execution_count": 1,
   "id": "0a22f1be-eafd-45d5-8ded-3233f02532e9",
   "metadata": {},
   "outputs": [],
   "source": [
    "import pandas as pd\n",
    "\n",
    "# Load the Wine dataset into a Pandas dataframe\n",
    "url = \"https://archive.ics.uci.edu/ml/machine-learning-databases/wine/wine.data\"\n",
    "column_names = [\"Class\", \"Alcohol\", \"Malic Acid\", \"Ash\", \"Alcalinity of Ash\", \"Magnesium\", \"Total Phenols\", \"Flavanoids\", \"Nonflavanoid Phenols\", \"Proanthocyanins\", \"Color Intensity\", \"Hue\", \"OD280/OD315 of Diluted Wines\", \"Proline\"]"
   ]
  },
  {
   "cell_type": "code",
   "execution_count": 2,
   "id": "ea0bfabe-ef58-485d-ad38-ee155e05946f",
   "metadata": {
    "tags": []
   },
   "outputs": [
    {
     "data": {
      "text/html": [
       "<div>\n",
       "<style scoped>\n",
       "    .dataframe tbody tr th:only-of-type {\n",
       "        vertical-align: middle;\n",
       "    }\n",
       "\n",
       "    .dataframe tbody tr th {\n",
       "        vertical-align: top;\n",
       "    }\n",
       "\n",
       "    .dataframe thead th {\n",
       "        text-align: right;\n",
       "    }\n",
       "</style>\n",
       "<table border=\"1\" class=\"dataframe\">\n",
       "  <thead>\n",
       "    <tr style=\"text-align: right;\">\n",
       "      <th></th>\n",
       "      <th>Class</th>\n",
       "      <th>Alcohol</th>\n",
       "      <th>Malic Acid</th>\n",
       "      <th>Ash</th>\n",
       "      <th>Alcalinity of Ash</th>\n",
       "      <th>Magnesium</th>\n",
       "      <th>Total Phenols</th>\n",
       "      <th>Flavanoids</th>\n",
       "      <th>Nonflavanoid Phenols</th>\n",
       "      <th>Proanthocyanins</th>\n",
       "      <th>Color Intensity</th>\n",
       "      <th>Hue</th>\n",
       "      <th>OD280/OD315 of Diluted Wines</th>\n",
       "      <th>Proline</th>\n",
       "    </tr>\n",
       "  </thead>\n",
       "  <tbody>\n",
       "    <tr>\n",
       "      <th>0</th>\n",
       "      <td>1</td>\n",
       "      <td>14.23</td>\n",
       "      <td>1.71</td>\n",
       "      <td>2.43</td>\n",
       "      <td>15.6</td>\n",
       "      <td>127</td>\n",
       "      <td>2.80</td>\n",
       "      <td>3.06</td>\n",
       "      <td>0.28</td>\n",
       "      <td>2.29</td>\n",
       "      <td>5.64</td>\n",
       "      <td>1.04</td>\n",
       "      <td>3.92</td>\n",
       "      <td>1065</td>\n",
       "    </tr>\n",
       "    <tr>\n",
       "      <th>1</th>\n",
       "      <td>1</td>\n",
       "      <td>13.20</td>\n",
       "      <td>1.78</td>\n",
       "      <td>2.14</td>\n",
       "      <td>11.2</td>\n",
       "      <td>100</td>\n",
       "      <td>2.65</td>\n",
       "      <td>2.76</td>\n",
       "      <td>0.26</td>\n",
       "      <td>1.28</td>\n",
       "      <td>4.38</td>\n",
       "      <td>1.05</td>\n",
       "      <td>3.40</td>\n",
       "      <td>1050</td>\n",
       "    </tr>\n",
       "    <tr>\n",
       "      <th>2</th>\n",
       "      <td>1</td>\n",
       "      <td>13.16</td>\n",
       "      <td>2.36</td>\n",
       "      <td>2.67</td>\n",
       "      <td>18.6</td>\n",
       "      <td>101</td>\n",
       "      <td>2.80</td>\n",
       "      <td>3.24</td>\n",
       "      <td>0.30</td>\n",
       "      <td>2.81</td>\n",
       "      <td>5.68</td>\n",
       "      <td>1.03</td>\n",
       "      <td>3.17</td>\n",
       "      <td>1185</td>\n",
       "    </tr>\n",
       "    <tr>\n",
       "      <th>3</th>\n",
       "      <td>1</td>\n",
       "      <td>14.37</td>\n",
       "      <td>1.95</td>\n",
       "      <td>2.50</td>\n",
       "      <td>16.8</td>\n",
       "      <td>113</td>\n",
       "      <td>3.85</td>\n",
       "      <td>3.49</td>\n",
       "      <td>0.24</td>\n",
       "      <td>2.18</td>\n",
       "      <td>7.80</td>\n",
       "      <td>0.86</td>\n",
       "      <td>3.45</td>\n",
       "      <td>1480</td>\n",
       "    </tr>\n",
       "    <tr>\n",
       "      <th>4</th>\n",
       "      <td>1</td>\n",
       "      <td>13.24</td>\n",
       "      <td>2.59</td>\n",
       "      <td>2.87</td>\n",
       "      <td>21.0</td>\n",
       "      <td>118</td>\n",
       "      <td>2.80</td>\n",
       "      <td>2.69</td>\n",
       "      <td>0.39</td>\n",
       "      <td>1.82</td>\n",
       "      <td>4.32</td>\n",
       "      <td>1.04</td>\n",
       "      <td>2.93</td>\n",
       "      <td>735</td>\n",
       "    </tr>\n",
       "  </tbody>\n",
       "</table>\n",
       "</div>"
      ],
      "text/plain": [
       "   Class  Alcohol  Malic Acid   Ash  Alcalinity of Ash  Magnesium  \\\n",
       "0      1    14.23        1.71  2.43               15.6        127   \n",
       "1      1    13.20        1.78  2.14               11.2        100   \n",
       "2      1    13.16        2.36  2.67               18.6        101   \n",
       "3      1    14.37        1.95  2.50               16.8        113   \n",
       "4      1    13.24        2.59  2.87               21.0        118   \n",
       "\n",
       "   Total Phenols  Flavanoids  Nonflavanoid Phenols  Proanthocyanins  \\\n",
       "0           2.80        3.06                  0.28             2.29   \n",
       "1           2.65        2.76                  0.26             1.28   \n",
       "2           2.80        3.24                  0.30             2.81   \n",
       "3           3.85        3.49                  0.24             2.18   \n",
       "4           2.80        2.69                  0.39             1.82   \n",
       "\n",
       "   Color Intensity   Hue  OD280/OD315 of Diluted Wines  Proline  \n",
       "0             5.64  1.04                          3.92     1065  \n",
       "1             4.38  1.05                          3.40     1050  \n",
       "2             5.68  1.03                          3.17     1185  \n",
       "3             7.80  0.86                          3.45     1480  \n",
       "4             4.32  1.04                          2.93      735  "
      ]
     },
     "execution_count": 2,
     "metadata": {},
     "output_type": "execute_result"
    }
   ],
   "source": [
    "### Loading the dataset into a Pandas dataframe.\n",
    "\n",
    "data = pd.read_csv(url, names=column_names)\n",
    "data.head()"
   ]
  },
  {
   "cell_type": "code",
   "execution_count": 3,
   "id": "e70f6d0e-8ca9-4a83-ac3a-855c76f22f67",
   "metadata": {},
   "outputs": [
    {
     "data": {
      "text/plain": [
       "Class                           0\n",
       "Alcohol                         0\n",
       "Malic Acid                      0\n",
       "Ash                             0\n",
       "Alcalinity of Ash               0\n",
       "Magnesium                       0\n",
       "Total Phenols                   0\n",
       "Flavanoids                      0\n",
       "Nonflavanoid Phenols            0\n",
       "Proanthocyanins                 0\n",
       "Color Intensity                 0\n",
       "Hue                             0\n",
       "OD280/OD315 of Diluted Wines    0\n",
       "Proline                         0\n",
       "dtype: int64"
      ]
     },
     "execution_count": 3,
     "metadata": {},
     "output_type": "execute_result"
    }
   ],
   "source": [
    "data.isnull().sum()"
   ]
  },
  {
   "cell_type": "code",
   "execution_count": null,
   "id": "74dff072-bf2f-458c-a4c1-4966df28a9ca",
   "metadata": {
    "collapsed": true,
    "jupyter": {
     "outputs_hidden": true
    }
   },
   "outputs": [],
   "source": []
  },
  {
   "cell_type": "markdown",
   "id": "6beffcef-c654-4105-b9fd-382d7bcaef32",
   "metadata": {},
   "source": [
    "####  Spliting the dataset into features and target variables. Perform data"
   ]
  },
  {
   "cell_type": "code",
   "execution_count": 4,
   "id": "7acc8e3f-a275-4471-8a34-6e067b15d9f3",
   "metadata": {},
   "outputs": [],
   "source": [
    "x = data.drop(\"Class\" , axis = 1)\n",
    "y = data.Class"
   ]
  },
  {
   "cell_type": "code",
   "execution_count": 5,
   "id": "b7888279-da32-4e97-8648-8e59125fc991",
   "metadata": {
    "tags": []
   },
   "outputs": [],
   "source": [
    "from sklearn.model_selection import train_test_split\n",
    "x_train, x_test, y_train, y_test = train_test_split(x, y, test_size=0.30, random_state=42)"
   ]
  },
  {
   "cell_type": "markdown",
   "id": "140a1438-adee-420f-b0cb-922ecb194ecd",
   "metadata": {},
   "source": [
    "#### Performing data preprocessing"
   ]
  },
  {
   "cell_type": "code",
   "execution_count": 6,
   "id": "5eae05a6-3a49-4c4d-a265-8100b7269579",
   "metadata": {
    "tags": []
   },
   "outputs": [],
   "source": [
    "from sklearn.preprocessing import StandardScaler\n",
    "\n",
    "scaler = StandardScaler()\n",
    "x_train_scaled = scaler.fit_transform(x_train)\n",
    "x_test_scaled = scaler.transform(x_test)"
   ]
  },
  {
   "cell_type": "code",
   "execution_count": 7,
   "id": "55555bf8-61d1-4957-8c15-ba477f7600b5",
   "metadata": {
    "tags": []
   },
   "outputs": [
    {
     "data": {
      "text/plain": [
       "(124, 13)"
      ]
     },
     "execution_count": 7,
     "metadata": {},
     "output_type": "execute_result"
    }
   ],
   "source": [
    "x_train_scaled.shape"
   ]
  },
  {
   "cell_type": "code",
   "execution_count": 8,
   "id": "5ac9ef5e-baac-408a-b33e-bedd3dc58f86",
   "metadata": {},
   "outputs": [
    {
     "data": {
      "text/plain": [
       "(54, 13)"
      ]
     },
     "execution_count": 8,
     "metadata": {},
     "output_type": "execute_result"
    }
   ],
   "source": [
    "x_test_scaled.shape"
   ]
  },
  {
   "cell_type": "markdown",
   "id": "7461f207-9e88-4535-8f9d-9d968d4cfafc",
   "metadata": {},
   "source": [
    "#### Implementing PCA on the preprocessed dataset using the scikit-learn library."
   ]
  },
  {
   "cell_type": "code",
   "execution_count": 9,
   "id": "9189e849-a19e-4bc9-9ae2-ddf30bcedb4a",
   "metadata": {
    "tags": []
   },
   "outputs": [],
   "source": [
    "from sklearn.decomposition import PCA\n",
    "\n",
    "pca = PCA()  # with default k values which is none \n",
    "x_train_pca = pca.fit(x_train_scaled)"
   ]
  },
  {
   "cell_type": "code",
   "execution_count": null,
   "id": "29a9c616-84c5-4bd4-8d0c-28bc4874c20f",
   "metadata": {},
   "outputs": [],
   "source": []
  },
  {
   "cell_type": "markdown",
   "id": "022b6f4f-b6ab-46db-aeab-4067b0d94bd2",
   "metadata": {},
   "source": [
    "Determine the optimal number of principal components to retain based on the explained variance ratio."
   ]
  },
  {
   "cell_type": "code",
   "execution_count": 10,
   "id": "261754dd-7a3e-4ab2-a75a-275b2639c82c",
   "metadata": {
    "tags": []
   },
   "outputs": [
    {
     "data": {
      "text/plain": [
       "array([0.36196226, 0.18763862, 0.11656548, 0.07578973, 0.07043753,\n",
       "       0.04552517, 0.03584257, 0.02646315, 0.02174942, 0.01958347,\n",
       "       0.01762321, 0.01323825, 0.00758114])"
      ]
     },
     "execution_count": 10,
     "metadata": {},
     "output_type": "execute_result"
    }
   ],
   "source": [
    "# Method 1 \n",
    "\n",
    "explained_variance_ratio = pca.explained_variance_ratio_\n",
    "explained_variance_ratio"
   ]
  },
  {
   "cell_type": "code",
   "execution_count": 11,
   "id": "762d1077-3837-4d1d-aa93-022a549b791d",
   "metadata": {},
   "outputs": [
    {
     "data": {
      "text/plain": [
       "array([0.36196226, 0.54960087, 0.66616635, 0.74195608, 0.81239361,\n",
       "       0.85791879, 0.89376135, 0.9202245 , 0.94197392, 0.96155739,\n",
       "       0.9791806 , 0.99241886, 1.        ])"
      ]
     },
     "execution_count": 11,
     "metadata": {},
     "output_type": "execute_result"
    }
   ],
   "source": [
    "cumulative_variance = explained_variance_ratio.cumsum()\n",
    "cumulative_variance"
   ]
  },
  {
   "cell_type": "code",
   "execution_count": 12,
   "id": "c560438e-260e-4eb4-a872-cdaca3332b2b",
   "metadata": {},
   "outputs": [
    {
     "data": {
      "image/png": "[encoded data removed]",
      "text/plain": [
       "<Figure size 640x480 with 1 Axes>"
      ]
     },
     "metadata": {},
     "output_type": "display_data"
    }
   ],
   "source": [
    "import matplotlib.pyplot as plt\n",
    "plt.plot(range(1, len(explained_variance_ratio) + 1), cumulative_variance, marker='o', linestyle='--')\n",
    "plt.xlabel(\"Number of Components\")\n",
    "plt.ylabel(\"Cumulative Explained Variance\")\n",
    "plt.title(\"Explained Variance vs. Number of Components\")\n",
    "plt.grid()\n",
    "plt.show()"
   ]
  },
  {
   "cell_type": "code",
   "execution_count": 13,
   "id": "376296c3-0a79-449a-b6c2-1bf3a2bfab81",
   "metadata": {},
   "outputs": [
    {
     "data": {
      "image/png": "[encoded data removed]",
      "text/plain": [
       "<Figure size 640x480 with 1 Axes>"
      ]
     },
     "metadata": {},
     "output_type": "display_data"
    }
   ],
   "source": [
    "# Method 2 \n",
    "\n",
    "pca = PCA()\n",
    "pca.fit(x_train_scaled)  # X is your data\n",
    "explained_variance = pca.explained_variance_ratio_\n",
    "\n",
    "plt.plot(range(1, len(explained_variance) + 1), explained_variance, marker='o')\n",
    "plt.xlabel('Number of Principal Components')\n",
    "plt.ylabel('Explained Variance')\n",
    "plt.show()"
   ]
  },
  {
   "cell_type": "code",
   "execution_count": null,
   "id": "8b3bb67a-63a3-4583-bd87-3e17c712ed5d",
   "metadata": {},
   "outputs": [],
   "source": []
  },
  {
   "cell_type": "code",
   "execution_count": 14,
   "id": "a57647ad-9a1e-4261-b7b0-9fb221eb1f43",
   "metadata": {},
   "outputs": [],
   "source": [
    "## we are chossing correct value for PCA as 6\n",
    "\n",
    "pca = PCA(n_components=6)\n",
    "x_train_pca = pca.fit_transform(x_train_scaled)\n",
    "x_test_pca = pca.transform(x_test_scaled)"
   ]
  },
  {
   "cell_type": "code",
   "execution_count": 15,
   "id": "56688761-207d-46ed-9fd2-b261931c56c9",
   "metadata": {},
   "outputs": [
    {
     "data": {
      "text/plain": [
       "(124, 6)"
      ]
     },
     "execution_count": 15,
     "metadata": {},
     "output_type": "execute_result"
    }
   ],
   "source": [
    "x_train_pca.shape"
   ]
  },
  {
   "cell_type": "code",
   "execution_count": null,
   "id": "69a36aab-9159-45c7-8b8b-cdd4d971cbb5",
   "metadata": {},
   "outputs": [],
   "source": []
  },
  {
   "cell_type": "code",
   "execution_count": null,
   "id": "c73d5ed9-9d6c-4ded-9421-41ab08b18eea",
   "metadata": {},
   "outputs": [],
   "source": []
  },
  {
   "cell_type": "markdown",
   "id": "805893a8-b6ef-45ef-be64-609bc871bb3b",
   "metadata": {},
   "source": [
    "#### Performing clustering on the PCA-transformed data using K-Means clustering algorithm."
   ]
  },
  {
   "cell_type": "code",
   "execution_count": 17,
   "id": "ff856699-a3ea-4dcc-9f42-c367c89ecbc7",
   "metadata": {},
   "outputs": [],
   "source": [
    "import warnings\n",
    "# To ignore all warnings\n",
    "warnings.filterwarnings(\"ignore\")\n",
    "\n",
    "from sklearn.cluster import KMeans\n",
    "kmeans = KMeans()"
   ]
  },
  {
   "cell_type": "code",
   "execution_count": 18,
   "id": "cb6b215b-2aeb-44bc-8a78-0a73ead8cc60",
   "metadata": {
    "tags": []
   },
   "outputs": [
    {
     "data": {
      "image/png": "[encoded data removed]",
      "text/plain": [
       "<Figure size 640x480 with 1 Axes>"
      ]
     },
     "metadata": {},
     "output_type": "display_data"
    }
   ],
   "source": [
    "# finding the first parametr for traing (value of k )\n",
    "\n",
    "wcss = []   \n",
    "\n",
    "for k in range(1,11):\n",
    "    kmeans = KMeans(n_clusters=k, init= 'k-means++')\n",
    "    kmeans.fit(x_train_pca)\n",
    "    wcss.append(kmeans.inertia_) \n",
    "    \n",
    "plt.plot(range(1, 11), wcss)\n",
    "plt.xlabel(\"Value of k\")\n",
    "plt.ylabel(\"WCSS values\")\n",
    "plt.show()"
   ]
  },
  {
   "cell_type": "markdown",
   "id": "ad181173-0405-4351-a7ec-f63f06370768",
   "metadata": {},
   "source": [
    "From the above elbow method we come to know that the optimal no of K should be 3 "
   ]
  },
  {
   "cell_type": "code",
   "execution_count": 19,
   "id": "694c84bd-9bf0-4d39-9441-2eec781a8e34",
   "metadata": {},
   "outputs": [],
   "source": [
    "kmeans = KMeans(n_clusters=3, init= 'k-means++')"
   ]
  },
  {
   "cell_type": "code",
   "execution_count": 20,
   "id": "e6f48e72-2ba2-4b0b-a90a-1c7d8f02fe71",
   "metadata": {},
   "outputs": [
    {
     "data": {
      "text/html": [
       "<style>#sk-container-id-1 {color: black;background-color: white;}#sk-container-id-1 pre{padding: 0;}#sk-container-id-1 div.sk-toggleable {background-color: white;}#sk-container-id-1 label.sk-toggleable__label {cursor: pointer;display: block;width: 100%;margin-bottom: 0;padding: 0.3em;box-sizing: border-box;text-align: center;}#sk-container-id-1 label.sk-toggleable__label-arrow:before {content: \"▸\";float: left;margin-right: 0.25em;color: #696969;}#sk-container-id-1 label.sk-toggleable__label-arrow:hover:before {color: black;}#sk-container-id-1 div.sk-estimator:hover label.sk-toggleable__label-arrow:before {color: black;}#sk-container-id-1 div.sk-toggleable__content {max-height: 0;max-width: 0;overflow: hidden;text-align: left;background-color: #f0f8ff;}#sk-container-id-1 div.sk-toggleable__content pre {margin: 0.2em;color: black;border-radius: 0.25em;background-color: #f0f8ff;}#sk-container-id-1 input.sk-toggleable__control:checked~div.sk-toggleable__content {max-height: 200px;max-width: 100%;overflow: auto;}#sk-container-id-1 input.sk-toggleable__control:checked~label.sk-toggleable__label-arrow:before {content: \"▾\";}#sk-container-id-1 div.sk-estimator input.sk-toggleable__control:checked~label.sk-toggleable__label {background-color: #d4ebff;}#sk-container-id-1 div.sk-label input.sk-toggleable__control:checked~label.sk-toggleable__label {background-color: #d4ebff;}#sk-container-id-1 input.sk-hidden--visually {border: 0;clip: rect(1px 1px 1px 1px);clip: rect(1px, 1px, 1px, 1px);height: 1px;margin: -1px;overflow: hidden;padding: 0;position: absolute;width: 1px;}#sk-container-id-1 div.sk-estimator {font-family: monospace;background-color: #f0f8ff;border: 1px dotted black;border-radius: 0.25em;box-sizing: border-box;margin-bottom: 0.5em;}#sk-container-id-1 div.sk-estimator:hover {background-color: #d4ebff;}#sk-container-id-1 div.sk-parallel-item::after {content: \"\";width: 100%;border-bottom: 1px solid gray;flex-grow: 1;}#sk-container-id-1 div.sk-label:hover label.sk-toggleable__label {background-color: #d4ebff;}#sk-container-id-1 div.sk-serial::before {content: \"\";position: absolute;border-left: 1px solid gray;box-sizing: border-box;top: 0;bottom: 0;left: 50%;z-index: 0;}#sk-container-id-1 div.sk-serial {display: flex;flex-direction: column;align-items: center;background-color: white;padding-right: 0.2em;padding-left: 0.2em;position: relative;}#sk-container-id-1 div.sk-item {position: relative;z-index: 1;}#sk-container-id-1 div.sk-parallel {display: flex;align-items: stretch;justify-content: center;background-color: white;position: relative;}#sk-container-id-1 div.sk-item::before, #sk-container-id-1 div.sk-parallel-item::before {content: \"\";position: absolute;border-left: 1px solid gray;box-sizing: border-box;top: 0;bottom: 0;left: 50%;z-index: -1;}#sk-container-id-1 div.sk-parallel-item {display: flex;flex-direction: column;z-index: 1;position: relative;background-color: white;}#sk-container-id-1 div.sk-parallel-item:first-child::after {align-self: flex-end;width: 50%;}#sk-container-id-1 div.sk-parallel-item:last-child::after {align-self: flex-start;width: 50%;}#sk-container-id-1 div.sk-parallel-item:only-child::after {width: 0;}#sk-container-id-1 div.sk-dashed-wrapped {border: 1px dashed gray;margin: 0 0.4em 0.5em 0.4em;box-sizing: border-box;padding-bottom: 0.4em;background-color: white;}#sk-container-id-1 div.sk-label label {font-family: monospace;font-weight: bold;display: inline-block;line-height: 1.2em;}#sk-container-id-1 div.sk-label-container {text-align: center;}#sk-container-id-1 div.sk-container {/* jupyter's `normalize.less` sets `[hidden] { display: none; }` but bootstrap.min.css set `[hidden] { display: none !important; }` so we also need the `!important` here to be able to override the default hidden behavior on the sphinx rendered scikit-learn.org. See: https://github.com/scikit-learn/scikit-learn/issues/21755 */display: inline-block !important;position: relative;}#sk-container-id-1 div.sk-text-repr-fallback {display: none;}</style><div id=\"sk-container-id-1\" class=\"sk-top-container\"><div class=\"sk-text-repr-fallback\"><pre>KMeans(n_clusters=3)</pre><b>In a Jupyter environment, please rerun this cell to show the HTML representation or trust the notebook. <br />On GitHub, the HTML representation is unable to render, please try loading this page with nbviewer.org.</b></div><div class=\"sk-container\" hidden><div class=\"sk-item\"><div class=\"sk-estimator sk-toggleable\"><input class=\"sk-toggleable__control sk-hidden--visually\" id=\"sk-estimator-id-1\" type=\"checkbox\" checked><label for=\"sk-estimator-id-1\" class=\"sk-toggleable__label sk-toggleable__label-arrow\">KMeans</label><div class=\"sk-toggleable__content\"><pre>KMeans(n_clusters=3)</pre></div></div></div></div></div>"
      ],
      "text/plain": [
       "KMeans(n_clusters=3)"
      ]
     },
     "execution_count": 20,
     "metadata": {},
     "output_type": "execute_result"
    }
   ],
   "source": [
    "kmeans.fit(x_train_pca)"
   ]
  },
  {
   "cell_type": "code",
   "execution_count": 21,
   "id": "6016e2a3-0c28-41e9-a3b2-33b071a36c8b",
   "metadata": {},
   "outputs": [
    {
     "data": {
      "text/plain": [
       "array([1, 0, 2, 2, 0, 2, 1, 0, 2, 1, 2, 2, 2, 1, 2, 2, 2, 1, 0, 2, 1, 0,\n",
       "       2, 1, 0, 0, 2, 0, 2, 2, 0, 2, 2, 1, 0, 0, 0, 2, 0, 0, 0, 1, 1, 2,\n",
       "       0, 1, 1, 1, 2, 2, 0, 1, 1, 0, 1, 0, 0, 0, 2, 2, 1, 2, 1, 2, 2, 0,\n",
       "       0, 2, 2, 2, 0, 2, 0, 1, 0, 0, 1, 1, 1, 0, 2, 2, 0, 1, 1, 2, 0, 1,\n",
       "       1, 1, 1, 0, 2, 0, 2, 1, 2, 2, 0, 2, 2, 1, 0, 2, 1, 1, 2, 2, 1, 1,\n",
       "       1, 0, 0, 0, 0, 0, 2, 1, 2, 0, 0, 2, 0, 0], dtype=int32)"
      ]
     },
     "execution_count": 21,
     "metadata": {},
     "output_type": "execute_result"
    }
   ],
   "source": [
    "pred = kmeans.predict(x_train_pca)\n",
    "pred"
   ]
  },
  {
   "cell_type": "code",
   "execution_count": 22,
   "id": "6bc31041-a411-481e-83f7-61e078915097",
   "metadata": {},
   "outputs": [
    {
     "data": {
      "text/plain": [
       "<matplotlib.collections.PathCollection at 0x7fe6d2553a00>"
      ]
     },
     "execution_count": 22,
     "metadata": {},
     "output_type": "execute_result"
    },
    {
     "data": {
      "image/png": "[encoded data removed]",
      "text/plain": [
       "<Figure size 640x480 with 1 Axes>"
      ]
     },
     "metadata": {},
     "output_type": "display_data"
    }
   ],
   "source": [
    "plt.scatter(x_train_pca[:,0],x_train_pca[:,1], c = pred )"
   ]
  },
  {
   "cell_type": "code",
   "execution_count": null,
   "id": "986b2e36-8a58-4922-a328-014ddbee0b9c",
   "metadata": {},
   "outputs": [],
   "source": []
  },
  {
   "cell_type": "markdown",
   "id": "a3a3db55-6422-4232-ab17-8d60fff1f48f",
   "metadata": {},
   "source": [
    "A table showing the performance metrics for the clustering algorithm."
   ]
  },
  {
   "cell_type": "code",
   "execution_count": 23,
   "id": "f602559f-e1d0-44b9-9a62-81edd69f19ee",
   "metadata": {},
   "outputs": [],
   "source": [
    "from sklearn.metrics import silhouette_score\n",
    "\n",
    "silhouette_coefficients = []\n",
    "for k in range (2,11):\n",
    "    kmeans = KMeans(n_clusters=k, init='k-means++')\n",
    "    kmeans.fit(x_train)\n",
    "                            # achual data , grouped data(pred value)\n",
    "    score = silhouette_score(x_train, kmeans.labels_)\n",
    "    silhouette_coefficients.append(score)"
   ]
  },
  {
   "cell_type": "code",
   "execution_count": 24,
   "id": "b310f200-dd85-4de0-a8a8-5ceaac43dff7",
   "metadata": {},
   "outputs": [
    {
     "data": {
      "text/plain": [
       "[0.6464293818332031,\n",
       " 0.5654010782761606,\n",
       " 0.5555852817496801,\n",
       " 0.534463597230946,\n",
       " 0.5323359875761018,\n",
       " 0.5477236516320797,\n",
       " 0.532854409821284,\n",
       " 0.534366812456612,\n",
       " 0.5250812931557097]"
      ]
     },
     "execution_count": 24,
     "metadata": {},
     "output_type": "execute_result"
    }
   ],
   "source": [
    "silhouette_coefficients"
   ]
  },
  {
   "cell_type": "code",
   "execution_count": null,
   "id": "b69e6f9a-2e52-4cd7-8231-99767dff49c4",
   "metadata": {},
   "outputs": [],
   "source": []
  },
  {
   "cell_type": "markdown",
   "id": "3869f76a-7208-4595-ad83-b218e3d4e152",
   "metadata": {},
   "source": [
    "#### Interpreting the results of PCA and clustering analysis."
   ]
  },
  {
   "cell_type": "markdown",
   "id": "d40e8499-8a3b-4866-bcee-e563967b9bf6",
   "metadata": {},
   "source": [
    "As we did feature decomposition using PCA and we extrate the feature in 6 feature \n",
    "then after using k-means custring algorithum we cluster whole data point into 3 clusters"
   ]
  },
  {
   "cell_type": "code",
   "execution_count": null,
   "id": "71b2958a-81f3-465a-9dc1-20e011d16474",
   "metadata": {},
   "outputs": [],
   "source": []
  }
 ],
 "metadata": {
  "kernelspec": {
   "display_name": "Python 3 (ipykernel)",
   "language": "python",
   "name": "python3"
  },
  "language_info": {
   "codemirror_mode": {
    "name": "ipython",
    "version": 3
   },
   "file_extension": ".py",
   "mimetype": "text/x-python",
   "name": "python",
   "nbconvert_exporter": "python",
   "pygments_lexer": "ipython3",
   "version": "3.10.8"
  }
 },
 "nbformat": 4,
 "nbformat_minor": 5
}
